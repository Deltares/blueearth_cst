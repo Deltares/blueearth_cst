{
 "cells": [
  {
   "cell_type": "markdown",
   "id": "d52f4320",
   "metadata": {},
   "source": [
    "# Climate Stress Test experiment"
   ]
  },
  {
   "cell_type": "markdown",
   "id": "2c3a674b",
   "metadata": {},
   "source": [
    "## Introduction"
   ]
  },
  {
   "cell_type": "markdown",
   "id": "36d890eb",
   "metadata": {},
   "source": [
    "Nokebook for the workflow **Snakefile_climate_experiment**: prepares futyre weather realizations and climate stress tests and run the realizations with the hydroloigcal model."
   ]
  },
  {
   "cell_type": "code",
   "execution_count": null,
   "id": "a5407bcf",
   "metadata": {},
   "outputs": [],
   "source": [
    "# Import some python libraries we will need to run this notebook\n",
    "import os\n",
    "from IPython import display"
   ]
  },
  {
   "cell_type": "code",
   "execution_count": null,
   "id": "a16d52e5-3a76-484d-846c-eaa906eb1699",
   "metadata": {},
   "outputs": [],
   "source": [
    "# A helper function\n",
    "from subprocess import Popen, PIPE, STDOUT\n",
    "\n",
    "from IPython.core.magic import register_line_magic\n",
    "\n",
    "\n",
    "@register_line_magic\n",
    "def runrealcmd(command):\n",
    "    with Popen(\n",
    "        command, stdout=PIPE, shell=True, stderr=STDOUT, bufsize=1, close_fds=True\n",
    "    ) as process:\n",
    "        for line in iter(process.stdout.readline, b\"\"):\n",
    "            print(line.rstrip().decode(\"utf-8\"))"
   ]
  },
  {
   "cell_type": "markdown",
   "id": "9b194805",
   "metadata": {},
   "source": [
    "## Defining your climate stress test experiment"
   ]
  },
  {
   "cell_type": "markdown",
   "id": "2b3c35f2",
   "metadata": {},
   "source": [
    "First thing is to prepare all the options for your project, this is done using the configuration or settings file below"
   ]
  },
  {
   "cell_type": "code",
   "execution_count": null,
   "id": "fb140db3",
   "metadata": {},
   "outputs": [],
   "source": [
    "# Add here the path where you have installed the blueearth-cst tool\n",
    "cst_path = r'C:\\Users\\boisgont\\D\\Repos\\CST\\blueearth_cst'\n",
    "os.chdir(cst_path)"
   ]
  },
  {
   "cell_type": "markdown",
   "id": "4e8e697e",
   "metadata": {},
   "source": [
    "Here we need to design uor stress test experiment. This include the number of future climate realizations as well as which climate scenarios to apply to these realizations. Stress test chnages can be applied on temperature (relative change) or on precipitation (multiplier).\n",
    "\n",
    "The different settings are controlled via our same configuration file but now in the new section on climate experiment."
   ]
  },
  {
   "cell_type": "code",
   "execution_count": null,
   "id": "161624ae",
   "metadata": {},
   "outputs": [],
   "source": [
    "%%writefile ./config/my-project-settings.yml\n",
    "\n",
    "###########################################################################################\n",
    "#################################### General setting ######################################\n",
    "\n",
    "# Path to where the wflow model will be stored (include the project name)\n",
    "project_name: myModel\n",
    "project_dir: examples/myModel\n",
    "\n",
    "# Path to the data catalog to use (can be different for Linux/Windows/data stored on P drive or other)\n",
    "data_sources: config/deltares_data.yml\n",
    "# Path to the data catalog to use (can be different for Linux/Windows/data stored on P drive or other)\n",
    "data_sources_climate: config/deltares_data_climate_projections.yml\n",
    "\n",
    "# Time horizon of the historical period\n",
    "starttime: \"2000-01-01T00:00:00\"\n",
    "endtime: \"2020-12-31T00:00:00\"\n",
    "\n",
    "###########################################################################################\n",
    "#################################### Model building #######################################\n",
    "\n",
    "# hydromt \"region\" for building the model, coordinates are in EPSG 4326\n",
    "# for more info on how to fill this, you can see the hydromt documentation: \n",
    "# https://deltares.github.io/hydromt/latest/user_guide/cli.html#region-options\n",
    "# For wflow please use either 'basin' or 'subbasin' keywords\n",
    "model_region: \"{'subbasin': [108.152711, 15.571764], 'strord': 3}\"\n",
    "# Grid resolution of the model in degrees\n",
    "model_resolution: 0.0062475\n",
    "\n",
    "# If available, please here put the path to the available observation stations locations files\n",
    "# csv file containing three columns: station_ID, x, y\n",
    "output_locations: None # If set to None, will default to the wflow outlets\n",
    "# Path to the file with observed discharge timeseries per station \n",
    "observations_timeseries: None\n",
    "\n",
    "###########################################################################################\n",
    "################################## Climate projections ####################################\n",
    "# climate models and scenarios\n",
    "clim_project: cmip5\n",
    "models: ['MIROC5']\n",
    "scenarios: [rcp45, rcp85]\n",
    "members: [r1i1p1]\n",
    "\n",
    "variables: [precip, temp, temp_min, temp_max]\n",
    "\n",
    "# time horizons of the climate projections\n",
    "start_month_hyd_year: Jan\n",
    "historical: 1960, 2000\n",
    "future_horizons: \n",
    "  near: 2020, 2060\n",
    "#  far: 2060, 2100\n",
    "\n",
    "###########################################################################################\n",
    "################################## Climate experiment #####################################\n",
    "# Name of the experiment\n",
    "experiment_name: experiment_01\n",
    "# Number of climate realizations\n",
    "realizations_num: 2\n",
    "# Future Time horizon for the climate experiment\n",
    "starttime_climate: \"2030-01-01T00:00:00\"\n",
    "endtime_climate: \"2050-12-31T00:00:00\"\n",
    "    \n",
    "# Weathergen settings\n",
    "warm.signif.level: 0.80\n",
    "warm.sample.num: 30000\n",
    "knn.sample.num: 120\n",
    "\n",
    "# Climate stress test parameters\n",
    "# Temperature change factors\n",
    "# including number of steps and min, max change\n",
    "temp:\n",
    "  step_num: 1\n",
    "  change_type: transient\n",
    "  mean:\n",
    "    min:\n",
    "      - 0.0  # January\n",
    "      - 0.0  # February\n",
    "      - 0.0  # March\n",
    "      - 0.0  # April\n",
    "      - 0.0  # May\n",
    "      - 0.0  # June\n",
    "      - 0.0  # July\n",
    "      - 0.0  # August\n",
    "      - 0.0  # September\n",
    "      - 0.0  # October\n",
    "      - 0.0  # November\n",
    "      - 0.0  # December\n",
    "    max:\n",
    "      - 3.0  # January\n",
    "      - 3.0  # February\n",
    "      - 3.0  # March\n",
    "      - 3.0  # April\n",
    "      - 3.0  # May\n",
    "      - 3.0  # June\n",
    "      - 3.0  # July\n",
    "      - 3.0  # August\n",
    "      - 3.0  # September\n",
    "      - 3.0  # October\n",
    "      - 3.0  # November\n",
    "      - 3.0  # December\n",
    "\n",
    "# Precipitation change factors\n",
    "# including number of steps and min, max change\n",
    "precip:\n",
    "  step_num: 3\n",
    "  change_type: transient\n",
    "  mean:\n",
    "    min:\n",
    "      - 0.7  # January\n",
    "      - 0.7  # February\n",
    "      - 0.7  # March\n",
    "      - 0.7  # April\n",
    "      - 0.7  # May\n",
    "      - 0.7  # June\n",
    "      - 0.7  # July\n",
    "      - 0.7  # August\n",
    "      - 0.7  # September\n",
    "      - 0.7  # October\n",
    "      - 0.7  # November\n",
    "      - 0.7  # December\n",
    "    max:\n",
    "      - 1.3  # January\n",
    "      - 1.3  # February\n",
    "      - 1.3  # March\n",
    "      - 1.3  # April\n",
    "      - 1.3  # May\n",
    "      - 1.3  # June\n",
    "      - 1.3  # July\n",
    "      - 1.3  # August\n",
    "      - 1.3  # September\n",
    "      - 1.3  # October\n",
    "      - 1.3  # November\n",
    "      - 1.3  # December\n",
    "  variance:\n",
    "    min:\n",
    "      - 1.0  # January\n",
    "      - 1.0  # February\n",
    "      - 1.0  # March\n",
    "      - 1.0  # April\n",
    "      - 1.0  # May\n",
    "      - 1.0  # June\n",
    "      - 1.0  # July\n",
    "      - 1.0  # August\n",
    "      - 1.0  # September\n",
    "      - 1.0  # October\n",
    "      - 1.0  # November\n",
    "      - 1.0  # December\n",
    "    max:\n",
    "      - 1.0  # January\n",
    "      - 1.0  # February\n",
    "      - 1.0  # March\n",
    "      - 1.0  # April\n",
    "      - 1.0  # May\n",
    "      - 1.0  # June\n",
    "      - 1.0  # July\n",
    "      - 1.0  # August\n",
    "      - 1.0  # September\n",
    "      - 1.0  # October\n",
    "      - 1.0  # November\n",
    "      - 1.0  # December"
   ]
  },
  {
   "cell_type": "markdown",
   "id": "a16b0694",
   "metadata": {},
   "source": [
    "## Running the model building workflow"
   ]
  },
  {
   "cell_type": "markdown",
   "id": "7ce52e95",
   "metadata": {},
   "source": [
    "The first line is to create an image of our workflow with snakemake to verify that all our settings are well taken into account."
   ]
  },
  {
   "cell_type": "code",
   "execution_count": null,
   "id": "1c064489",
   "metadata": {},
   "outputs": [],
   "source": [
    "! snakemake -s Snakefile_climate_experiment --configfile config/my-project-settings.yml  --dag | dot -Tpng > dag_climate.png"
   ]
  },
  {
   "cell_type": "code",
   "execution_count": null,
   "id": "8c757eb0",
   "metadata": {},
   "outputs": [],
   "source": [
    "display.Image(\"./dag_climate.png\")"
   ]
  },
  {
   "cell_type": "markdown",
   "id": "608768f2",
   "metadata": {},
   "source": [
    "Now we will unlock your directory in order to save the future results of the workflow. This step is most of the time not necessary."
   ]
  },
  {
   "cell_type": "code",
   "execution_count": null,
   "id": "d7cd5896",
   "metadata": {},
   "outputs": [],
   "source": [
    "! snakemake --unlock -s Snakefile_climate_experiment --configfile config/my-project-settings.yml"
   ]
  },
  {
   "cell_type": "markdown",
   "id": "f9324e09",
   "metadata": {},
   "source": [
    "And finally let's run our worflow:"
   ]
  },
  {
   "cell_type": "code",
   "execution_count": null,
   "id": "15cbafcf",
   "metadata": {},
   "outputs": [],
   "source": [
    "%runrealcmd snakemake all -c 1 -s Snakefile_climate_experiment --configfile config/my-project-settings.yml"
   ]
  },
  {
   "cell_type": "markdown",
   "id": "3ef0c8e1",
   "metadata": {},
   "source": [
    "## Results"
   ]
  },
  {
   "cell_type": "markdown",
   "id": "6d8926f2",
   "metadata": {},
   "source": [
    "First check that snake did run everything."
   ]
  },
  {
   "cell_type": "code",
   "execution_count": null,
   "id": "b9deda71",
   "metadata": {},
   "outputs": [],
   "source": [
    "! snakemake -s Snakefile_climate_experiment --configfile config/my-project-settings.yml  --dag | dot -Tpng > dag_climate.png"
   ]
  },
  {
   "cell_type": "code",
   "execution_count": null,
   "id": "492642df",
   "metadata": {},
   "outputs": [],
   "source": [
    "display.Image(\"./dag_climate.png\")"
   ]
  },
  {
   "cell_type": "markdown",
   "id": "a37015f7",
   "metadata": {},
   "source": [
    "Let's see which files where created in our output folder."
   ]
  },
  {
   "cell_type": "code",
   "execution_count": null,
   "id": "b88459bd",
   "metadata": {},
   "outputs": [],
   "source": [
    "root = \"examples/myModel\"\n",
    "for path, _, files in os.walk(root):\n",
    "    print(path)\n",
    "    for name in files:\n",
    "        if name.endswith(\".xml\"):\n",
    "            continue\n",
    "        print(f\" - {name}\")"
   ]
  }
 ],
 "metadata": {
  "kernelspec": {
   "display_name": "Python 3 (ipykernel)",
   "language": "python",
   "name": "python3"
  },
  "language_info": {
   "codemirror_mode": {
    "name": "ipython",
    "version": 3
   },
   "file_extension": ".py",
   "mimetype": "text/x-python",
   "name": "python",
   "nbconvert_exporter": "python",
   "pygments_lexer": "ipython3",
   "version": "3.10.2"
  }
 },
 "nbformat": 4,
 "nbformat_minor": 5
}
