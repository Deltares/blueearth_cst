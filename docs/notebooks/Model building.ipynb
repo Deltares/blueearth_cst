{
 "cells": [
  {
   "cell_type": "markdown",
   "id": "d1026dcd",
   "metadata": {},
   "source": [
    "# Creating your project and building the hydrological model"
   ]
  },
  {
   "cell_type": "markdown",
   "id": "af4e35b8",
   "metadata": {},
   "source": [
    "## Introduction"
   ]
  },
  {
   "cell_type": "markdown",
   "id": "91c05fc2",
   "metadata": {},
   "source": [
    "Notebook for the workflow **Snakefile_historical_hydrology**: \n",
    "1.  creates a Wflow model based on global data for the selected region, \n",
    "2.  runs the model for a selection of forcing datasets for the historical period, \n",
    "3.  evaluates the model performance using observed streamflow data (if provided) and snow cover extent (if provided)."
   ]
  },
  {
   "cell_type": "code",
   "execution_count": 2,
   "id": "8b887ec1",
   "metadata": {},
   "outputs": [],
   "source": [
    "# Import some python libraries we will need to run this notebook\n",
    "import os\n",
    "from IPython import display"
   ]
  },
  {
   "cell_type": "code",
   "execution_count": 3,
   "id": "5297f677-6afc-4efe-a143-bfe84ce88772",
   "metadata": {},
   "outputs": [],
   "source": [
    "# A helper function\n",
    "from subprocess import Popen, PIPE, STDOUT\n",
    "\n",
    "from IPython.core.magic import register_line_magic\n",
    "\n",
    "\n",
    "@register_line_magic\n",
    "def runrealcmd(command):\n",
    "    with Popen(\n",
    "        command, stdout=PIPE, shell=True, stderr=STDOUT, bufsize=1, close_fds=True\n",
    "    ) as process:\n",
    "        for line in iter(process.stdout.readline, b\"\"):\n",
    "            print(line.rstrip().decode(\"utf-8\"))"
   ]
  },
  {
   "cell_type": "markdown",
   "id": "f7acfc4f",
   "metadata": {},
   "source": [
    "## Defining your project region and properties"
   ]
  },
  {
   "cell_type": "markdown",
   "id": "11fb0c8c",
   "metadata": {},
   "source": [
    "First thing is to prepare all the options for your project, this is done using the configuration or settings file below"
   ]
  },
  {
   "cell_type": "code",
   "execution_count": 4,
   "id": "60b1b63d",
   "metadata": {},
   "outputs": [],
   "source": [
    "# Add here the path where you have installed the blueearth-cst tool\n",
    "cst_path = r'c:\\Users\\bouaziz\\repos\\blueearth_cst'\n",
    "os.chdir(cst_path)"
   ]
  },
  {
   "cell_type": "markdown",
   "id": "4251a891",
   "metadata": {},
   "source": [
    "To create your model for any given (sub)basin, you will need to provide:\n",
    "\n",
    "- for a basin to the sea, any point in the basin [x, y]\n",
    "- for a subbasin (tributary or part of a basin) the location of the subbasin outlet [xout, yout]\n",
    "- a bounding box [xmin, ymin, xmax, ymax]\n",
    "- a geometry file of your region of interest (eg, myregion.shp)\n",
    "\n",
    "For more details on the exact syntax, please have a look at:\n",
    "https://deltares.github.io/hydromt/stable/user_guide/model_region.html#hydrographic-region \n",
    "\n",
    "The coordinates should be in EPSG 4326.\n",
    "For points, you can use Google Maps to locate your coordinates.\n",
    "For bounding box or point coordinates, you can also copy-paste locations from this website: http://bboxfinder.com/"
   ]
  },
  {
   "cell_type": "code",
   "execution_count": 7,
   "id": "b67b0319",
   "metadata": {},
   "outputs": [
    {
     "name": "stdout",
     "output_type": "stream",
     "text": [
      "Overwriting ./config/my-project-settings.yml\n"
     ]
    }
   ],
   "source": [
    "%%writefile ./config/my-project-settings.yml\n",
    "\n",
    "########################################################################################\n",
    "#################################### General settings ##################################\n",
    "\n",
    "# Path to where the wflow model will be stored (include the project name)\n",
    "project_dir: tests/test_project\n",
    "\n",
    "# hydromt \"region\" for building the model, coordinates are in EPSG 4326\n",
    "# for more info on how to fill this, you can see the hydromt documentation: \n",
    "# https://deltares.github.io/hydromt/latest/user_guide/cli.html#region-options\n",
    "# For wflow please use either 'basin' or 'subbasin' keywords\n",
    "model_region: \"{'subbasin': [12.3758, 46.4076], 'uparea': 70}\"\n",
    "\n",
    "# Path to the data catalog to use (can be different for Linux/Windows/data stored on P drive or other)\n",
    "# NB: should be ordered from most recent to use last! \n",
    "data_sources: \n",
    "  - artifact_data\n",
    "  - tests/data/tests_data_catalog.yml\n",
    "\n",
    "# Info on the historical climate data is used in the historic model run + reference data for the weather generator\n",
    "# Time horizon of the historical period\n",
    "starttime: \"2000-01-01T00:00:00\"\n",
    "endtime: \"2010-12-31T00:00:00\"\n",
    "\n",
    "# Path to the data catalog to use (can be different for Linux/Windows/data stored on P drive or other)\n",
    "data_sources_climate: config/cmip6_data.yml\n",
    "\n",
    "# Historical gridded climate data sources (name as available in the data_sources catalog file). Either [era5, chirps_global, chirps, eobs].\n",
    "clim_historical: \n",
    "  - era5\n",
    "  - chirps_global\n",
    "\n",
    "clim_historical_colors:\n",
    "  - blue\n",
    "  - green\n",
    "\n",
    "# List of wflow output variables to save\n",
    "# Supported variables: ['river discharge', 'precipitation', 'overland flow', 'actual evapotranspiration', 'groundwater recharge', 'snow']\n",
    "# Comment out to disable saving\n",
    "# Scalar csv\n",
    "wflow_outvars: ['river discharge', 'precipitation', 'overland flow', 'actual evapotranspiration', 'groundwater recharge', 'snow']\n",
    "# Gridded netcdf\n",
    "wflow_outvars_gridded: ['snow']\n",
    "\n",
    "###########################################################################################\n",
    "#################################### Model building #######################################\n",
    "\n",
    "# Grid resolution of the model in degrees\n",
    "model_resolution: 0.0166666\n",
    "# Path to model build configuration\n",
    "model_build_config: \"tests/wflow_build_model.yml\"\n",
    "waterbodies_config: \"tests/wflow_update_waterbodies.yml\"\n",
    "\n",
    "# If available, please put here the path to the available observation stations locations file\n",
    "# csv file containing four columns: station_ID, name, x, y\n",
    "output_locations: \"tests/data/observations/discharge-locations-grdc.csv\" # If set to None, will default to the wflow outlets\n",
    "# Path to the file with observed discharge timeseries per station \n",
    "observations_timeseries: \"tests/data/observations/observations-discharge-grdc.csv\" \n",
    "\n",
    "# Additional plot of budyko\n",
    "plot_budyko: True"
   ]
  },
  {
   "cell_type": "markdown",
   "id": "2a0246c8",
   "metadata": {},
   "source": [
    "## Running the model building workflow"
   ]
  },
  {
   "cell_type": "markdown",
   "id": "16380b9b",
   "metadata": {},
   "source": [
    "The first line is to create an image of our workflow with snakemake to verify that all our settings are well taken into account."
   ]
  },
  {
   "cell_type": "code",
   "execution_count": null,
   "id": "eb461836",
   "metadata": {},
   "outputs": [],
   "source": [
    "! snakemake -s Snakefile_model_creation --configfile config/my-project-settings.yml  --dag | dot -Tpng > dag_model_building.png"
   ]
  },
  {
   "cell_type": "code",
   "execution_count": null,
   "id": "64c2a3b2",
   "metadata": {},
   "outputs": [],
   "source": [
    "display.Image(\"./dag_model_building.png\")"
   ]
  },
  {
   "cell_type": "markdown",
   "id": "39a82d53",
   "metadata": {},
   "source": [
    "Now we will unlock your directory in order to save the future results of the workflow. This step is most of the time not necessary."
   ]
  },
  {
   "cell_type": "code",
   "execution_count": null,
   "id": "7850745f",
   "metadata": {},
   "outputs": [],
   "source": [
    "! snakemake --unlock -s Snakefile_model_creation --configfile config/my-project-settings.yml"
   ]
  },
  {
   "cell_type": "markdown",
   "id": "29f64153",
   "metadata": {},
   "source": [
    "And finally let's run our worflow:"
   ]
  },
  {
   "cell_type": "code",
   "execution_count": null,
   "id": "d23d7aea",
   "metadata": {},
   "outputs": [],
   "source": [
    "%runrealcmd snakemake all -c 1 -s Snakefile_model_creation --configfile config/my-project-settings.yml"
   ]
  },
  {
   "cell_type": "markdown",
   "id": "d1f8ddcf",
   "metadata": {},
   "source": [
    "## Results"
   ]
  },
  {
   "cell_type": "markdown",
   "id": "114d1489",
   "metadata": {},
   "source": [
    "First check that snake did run everything."
   ]
  },
  {
   "cell_type": "code",
   "execution_count": null,
   "id": "81b9ec49",
   "metadata": {},
   "outputs": [],
   "source": [
    "! snakemake -s Snakefile_model_creation --configfile config/my-project-settings.yml  --dag | dot -Tpng > dag_model_building.png"
   ]
  },
  {
   "cell_type": "code",
   "execution_count": null,
   "id": "88dca307",
   "metadata": {},
   "outputs": [],
   "source": [
    "display.Image(\"./dag_model_building.png\")"
   ]
  },
  {
   "cell_type": "markdown",
   "id": "c82febeb",
   "metadata": {},
   "source": [
    "Let's see which files where created in our output folder."
   ]
  },
  {
   "cell_type": "code",
   "execution_count": null,
   "id": "bbc92bbe",
   "metadata": {},
   "outputs": [],
   "source": [
    "root = \"examples/myModel\"\n",
    "for path, _, files in os.walk(root):\n",
    "    print(path)\n",
    "    for name in files:\n",
    "        if name.endswith(\".xml\"):\n",
    "            continue\n",
    "        print(f\" - {name}\")"
   ]
  },
  {
   "cell_type": "code",
   "execution_count": null,
   "id": "b6aac318",
   "metadata": {},
   "outputs": [],
   "source": [
    "display.Image(\"./examples/myModel/plots/wflow_model_performance/basin_area.png\")"
   ]
  },
  {
   "cell_type": "code",
   "execution_count": null,
   "id": "98f597e6",
   "metadata": {},
   "outputs": [],
   "source": [
    "display.Image(\"./examples/myModel/plots/wflow_model_performance/hydro_wflow_1.png\")"
   ]
  }
 ],
 "metadata": {
  "kernelspec": {
   "display_name": "blueearth-cst",
   "language": "python",
   "name": "python3"
  },
  "language_info": {
   "codemirror_mode": {
    "name": "ipython",
    "version": 3
   },
   "file_extension": ".py",
   "mimetype": "text/x-python",
   "name": "python",
   "nbconvert_exporter": "python",
   "pygments_lexer": "ipython3",
   "version": "3.12.4"
  }
 },
 "nbformat": 4,
 "nbformat_minor": 5
}
