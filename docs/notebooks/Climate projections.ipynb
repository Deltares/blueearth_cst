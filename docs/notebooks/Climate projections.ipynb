{
 "cells": [
  {
   "cell_type": "markdown",
   "id": "d52f4320",
   "metadata": {},
   "source": [
    "# Compute climate projections from different GCM models and RCP"
   ]
  },
  {
   "cell_type": "markdown",
   "id": "2c3a674b",
   "metadata": {},
   "source": [
    "## Introduction"
   ]
  },
  {
   "cell_type": "markdown",
   "id": "36d890eb",
   "metadata": {},
   "source": [
    "Nokebook for the workflow **Snakefile_climate_projections**: derives future climate statistics (expected temperature and precipitation change) for different RCPs and GCMs (from CMIP dataset)."
   ]
  },
  {
   "cell_type": "code",
   "execution_count": null,
   "id": "a5407bcf",
   "metadata": {},
   "outputs": [],
   "source": [
    "# Import some python libraries we will need to run this notebook\n",
    "import os\n",
    "from IPython import display"
   ]
  },
  {
   "cell_type": "code",
   "execution_count": null,
   "id": "775790fa",
   "metadata": {},
   "outputs": [],
   "source": [
    "# A helper function\n",
    "from subprocess import Popen, PIPE, STDOUT\n",
    "\n",
    "from IPython.core.magic import register_line_magic\n",
    "\n",
    "\n",
    "@register_line_magic\n",
    "def runrealcmd(command):\n",
    "    with Popen(\n",
    "        command, stdout=PIPE, shell=True, stderr=STDOUT, bufsize=1, close_fds=True\n",
    "    ) as process:\n",
    "        for line in iter(process.stdout.readline, b\"\"):\n",
    "            print(line.rstrip().decode(\"utf-8\"))"
   ]
  },
  {
   "cell_type": "markdown",
   "id": "9b194805",
   "metadata": {},
   "source": [
    "## Choosing your climate datasets and scenarios"
   ]
  },
  {
   "cell_type": "markdown",
   "id": "2b3c35f2",
   "metadata": {},
   "source": [
    "First thing is to prepare all the options for your project, this is done using the configuration or settings file below"
   ]
  },
  {
   "cell_type": "code",
   "execution_count": null,
   "id": "fb140db3",
   "metadata": {},
   "outputs": [],
   "source": [
    "# Add here the path where you have installed the blueearth-cst tool\n",
    "cst_path = r'D:\\blueearth_cst'\n",
    "os.chdir(cst_path)"
   ]
  },
  {
   "cell_type": "markdown",
   "id": "4e8e697e",
   "metadata": {},
   "source": [
    "To chose where the river or basin you want to work with, you will need to supply the location of your river.\n",
    "\n",
    "The location can either be:\n",
    "- for a basin to the sea, any point in the basin [x, y]\n",
    "- for a subbasin (tributary or part of a basin) the location of the subbasin outlet [xout, yout]\n",
    "- a bounding box [xmin, ymin, xmax, ymax]\n",
    "- a geometry file of your region of interest (eg, myregion.shp)\n",
    "\n",
    "The coordinates should be in EPSG 4326.\n",
    "For points, you can use Google Maps to locate your coordinates.\n",
    "For bounding box or point cooridnates, you can also copy-paste locations from this website: http://bboxfinder.com/"
   ]
  },
  {
   "cell_type": "code",
   "execution_count": null,
   "id": "161624ae",
   "metadata": {},
   "outputs": [],
   "source": [
    "%%writefile ./config/my-project-settings.yml\n",
    "\n",
    "###########################################################################################\n",
    "#################################### General setting ######################################\n",
    "\n",
    "# Path to where the wflow model will be stored (include the project name)\n",
    "project_dir: examples/myModel\n",
    "\n",
    "# Path to the data catalog to use (can be different for Linux/Windows/data stored on P drive or other)\n",
    "data_sources: config/deltares_data.yml\n",
    "data_sources_climate: config/cmip6_data.yml\n",
    "\n",
    "# Time horizon of the historical period\n",
    "starttime: \"2000-01-01T00:00:00\"\n",
    "endtime: \"2020-12-31T00:00:00\"\n",
    "# Historical climate data source (name as available in the data_sources catalog file). Either [era5, chirps_global, chirps, eobs].\n",
    "clim_historical: era5\n",
    "\n",
    "# List of wflow output variables to save\n",
    "wflow_outvars: ['river discharge', 'overland flow', 'actual evapotranspiration', 'groundwater recharge', 'snow']\n",
    "\n",
    "###########################################################################################\n",
    "#################################### Model building #######################################\n",
    "\n",
    "# hydromt \"region\" for building the model, coordinates are in EPSG 4326\n",
    "# for more info on how to fill this, you can see the hydromt documentation: \n",
    "# https://deltares.github.io/hydromt/latest/user_guide/cli.html#region-options\n",
    "# For wflow please use either 'basin' or 'subbasin' keywords\n",
    "#model_region: \"{'subbasin': [108.13800, 15.5414], 'uparea':100}\"\n",
    "model_region: \"{'subbasin': [108.152711, 15.571764], 'uparea': 100}\"\n",
    "# Grid resolution of the model in degrees\n",
    "model_resolution: 0.0083333\n",
    "\n",
    "# If available, please here put the path to the available observation stations locations files\n",
    "# csv file containing three columns: station_ID, x, y\n",
    "output_locations: None # If set to None, will default to the wflow outlets\n",
    "# Path to the file with observed discharge timeseries per station \n",
    "observations_timeseries: None\n",
    "    \n",
    "###########################################################################################\n",
    "################################## Climate projections ####################################\n",
    "# climate models and scenarios\n",
    "clim_project: cmip6\n",
    "models: ['NOAA-GFDL/GFDL-ESM4']\n",
    "scenarios: [ssp245, ssp585]\n",
    "members: [r1i1p1f1]\n",
    "\n",
    "variables: [precip, temp]\n",
    "\n",
    "# time horizons of the climate projections\n",
    "start_month_hyd_year: Jan\n",
    "historical: 1980, 2010\n",
    "future_horizons: \n",
    "  near: 2030, 2060\n",
    "#  far: 2070, 2100\n",
    "\n",
    "# Additional gridded outputs (else only basin average)\n",
    "save_grids: FALSE"
   ]
  },
  {
   "cell_type": "markdown",
   "id": "a16b0694",
   "metadata": {},
   "source": [
    "## Running the model building workflow"
   ]
  },
  {
   "cell_type": "markdown",
   "id": "7ce52e95",
   "metadata": {},
   "source": [
    "The first line is to create an image of our workflow with snakemake to verify that all our settings are well taken into account."
   ]
  },
  {
   "cell_type": "code",
   "execution_count": null,
   "id": "1c064489",
   "metadata": {},
   "outputs": [],
   "source": [
    "! snakemake -s Snakefile_climate_projections --configfile config/my-project-settings.yml  --dag | dot -Tpng > dag_projections.png"
   ]
  },
  {
   "cell_type": "code",
   "execution_count": null,
   "id": "8c757eb0",
   "metadata": {},
   "outputs": [],
   "source": [
    "display.Image(\"./dag_projections.png\")"
   ]
  },
  {
   "cell_type": "markdown",
   "id": "608768f2",
   "metadata": {},
   "source": [
    "Now we will unlock your directory in order to save the future results of the workflow. This step is most of the time not necessary."
   ]
  },
  {
   "cell_type": "code",
   "execution_count": null,
   "id": "d7cd5896",
   "metadata": {},
   "outputs": [],
   "source": [
    "! snakemake --unlock -s Snakefile_climate_projections --configfile config/my-project-settings.yml"
   ]
  },
  {
   "cell_type": "markdown",
   "id": "f9324e09",
   "metadata": {},
   "source": [
    "And finally let's run our worflow:"
   ]
  },
  {
   "cell_type": "code",
   "execution_count": null,
   "id": "15cbafcf",
   "metadata": {},
   "outputs": [],
   "source": [
    "%runrealcmd snakemake all -c 1 -s Snakefile_climate_projections --configfile config/my-project-settings.yml"
   ]
  },
  {
   "cell_type": "markdown",
   "id": "3ef0c8e1",
   "metadata": {},
   "source": [
    "## Results"
   ]
  },
  {
   "cell_type": "markdown",
   "id": "6d8926f2",
   "metadata": {},
   "source": [
    "First check that snake did run everything."
   ]
  },
  {
   "cell_type": "code",
   "execution_count": null,
   "id": "b9deda71",
   "metadata": {},
   "outputs": [],
   "source": [
    "! snakemake -s Snakefile_climate_projections --configfile config/my-project-settings.yml  --dag | dot -Tpng > dag_projections.png"
   ]
  },
  {
   "cell_type": "code",
   "execution_count": null,
   "id": "492642df",
   "metadata": {},
   "outputs": [],
   "source": [
    "display.Image(\"./dag_projections.png\")"
   ]
  },
  {
   "cell_type": "markdown",
   "id": "a37015f7",
   "metadata": {},
   "source": [
    "Let's see which files where created in our output folder."
   ]
  },
  {
   "cell_type": "code",
   "execution_count": null,
   "id": "b88459bd",
   "metadata": {},
   "outputs": [],
   "source": [
    "root = \"examples/myModel\"\n",
    "for path, _, files in os.walk(root):\n",
    "    print(path)\n",
    "    for name in files:\n",
    "        if name.endswith(\".xml\"):\n",
    "            continue\n",
    "        print(f\" - {name}\")"
   ]
  },
  {
   "cell_type": "code",
   "execution_count": null,
   "id": "aef149b2",
   "metadata": {},
   "outputs": [],
   "source": [
    "import pandas as pd\n",
    "df = pd.read_csv('examples/myModel/climate_projections/cmip6/annual_change_scalar_stats_summary_mean.csv')\n",
    "df"
   ]
  }
 ],
 "metadata": {
  "kernelspec": {
   "display_name": "Python 3 (ipykernel)",
   "language": "python",
   "name": "python3"
  },
  "language_info": {
   "codemirror_mode": {
    "name": "ipython",
    "version": 3
   },
   "file_extension": ".py",
   "mimetype": "text/x-python",
   "name": "python",
   "nbconvert_exporter": "python",
   "pygments_lexer": "ipython3",
   "version": "3.10.2"
  }
 },
 "nbformat": 4,
 "nbformat_minor": 5
}
