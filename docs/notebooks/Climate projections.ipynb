{
 "cells": [
  {
   "cell_type": "markdown",
   "id": "d52f4320",
   "metadata": {},
   "source": [
    "# Compute climate projections from different GCM models and RCP"
   ]
  },
  {
   "cell_type": "markdown",
   "id": "2c3a674b",
   "metadata": {},
   "source": [
    "## Introduction"
   ]
  },
  {
   "cell_type": "markdown",
   "id": "36d890eb",
   "metadata": {},
   "source": [
    "Nokebook for the workflow **Snakefile_climate_projections**: derives future climate statistics (expected temperature and precipitation change) for different RCPs and GCMs (from CMIP dataset)."
   ]
  },
  {
   "cell_type": "code",
   "execution_count": 1,
   "id": "a5407bcf",
   "metadata": {},
   "outputs": [],
   "source": [
    "# Import some python libraries we will need to run this notebook\n",
    "import os\n",
    "from IPython import display"
   ]
  },
  {
   "cell_type": "code",
   "execution_count": 2,
   "id": "775790fa",
   "metadata": {},
   "outputs": [],
   "source": [
    "# A helper function\n",
    "from subprocess import Popen, PIPE, STDOUT\n",
    "\n",
    "from IPython.core.magic import register_line_magic\n",
    "\n",
    "\n",
    "@register_line_magic\n",
    "def runrealcmd(command):\n",
    "    with Popen(\n",
    "        command, stdout=PIPE, shell=True, stderr=STDOUT, bufsize=1, close_fds=True\n",
    "    ) as process:\n",
    "        for line in iter(process.stdout.readline, b\"\"):\n",
    "            print(line.rstrip().decode(\"utf-8\"))"
   ]
  },
  {
   "cell_type": "markdown",
   "id": "9b194805",
   "metadata": {},
   "source": [
    "## Choosing your climate datasets and scenarios"
   ]
  },
  {
   "cell_type": "markdown",
   "id": "2b3c35f2",
   "metadata": {},
   "source": [
    "First thing is to prepare all the options for your project, this is done using the configuration or settings file below"
   ]
  },
  {
   "cell_type": "code",
   "execution_count": 3,
   "id": "fb140db3",
   "metadata": {},
   "outputs": [],
   "source": [
    "# Add here the path where you have installed the blueearth-cst tool\n",
    "cst_path = r'C:\\Users\\boisgont\\D\\Repos\\CST\\blueearth_cst'\n",
    "os.chdir(cst_path)"
   ]
  },
  {
   "cell_type": "markdown",
   "id": "4e8e697e",
   "metadata": {},
   "source": [
    "To chose where the river or basin you want to work with, you will need to supply the location of your river.\n",
    "\n",
    "The location can either be:\n",
    "- for a basin to the sea, any point in the basin [x, y]\n",
    "- for a subbasin (tributary or part of a basin) the location of the subbasin outlet [xout, yout]\n",
    "- a bounding box [xmin, ymin, xmax, ymax]\n",
    "- a geometry file of your region of interest (eg, myregion.shp)\n",
    "\n",
    "The coordinates should be in EPSG 4326.\n",
    "For points, you can use Google Maps to locate your coordinates.\n",
    "For bounding box or point cooridnates, you can also copy-paste locations from this website: http://bboxfinder.com/"
   ]
  },
  {
   "cell_type": "code",
   "execution_count": 4,
   "id": "161624ae",
   "metadata": {},
   "outputs": [
    {
     "name": "stdout",
     "output_type": "stream",
     "text": [
      "Overwriting ./config/my-project-settings.yml\n"
     ]
    }
   ],
   "source": [
    "%%writefile ./config/my-project-settings.yml\n",
    "\n",
    "###########################################################################################\n",
    "#################################### General setting ######################################\n",
    "\n",
    "# Path to where the wflow model will be stored (include the project name)\n",
    "project_name: myModel\n",
    "project_dir: examples/myModel\n",
    "\n",
    "# Path to the data catalog to use (can be different for Linux/Windows/data stored on P drive or other)\n",
    "data_sources: config/deltares_data.yml\n",
    "# Path to the data catalog to use (can be different for Linux/Windows/data stored on P drive or other)\n",
    "data_sources_climate: config/deltares_data_climate_projections.yml\n",
    "\n",
    "# Time horizon of the historical period\n",
    "starttime: \"2000-01-01T00:00:00\"\n",
    "endtime: \"2020-12-31T00:00:00\"\n",
    "\n",
    "###########################################################################################\n",
    "#################################### Model building #######################################\n",
    "\n",
    "# hydromt \"region\" for building the model, coordinates are in EPSG 4326\n",
    "# for more info on how to fill this, you can see the hydromt documentation: \n",
    "# https://deltares.github.io/hydromt/latest/user_guide/cli.html#region-options\n",
    "# For wflow please use either 'basin' or 'subbasin' keywords\n",
    "model_region: \"{'subbasin': [108.13800, 15.5414], 'strord':3}\"\n",
    "# Grid resolution of the model in degrees\n",
    "model_resolution: 0.0083333\n",
    "\n",
    "# If available, please here put the path to the available observation stations locations files\n",
    "# csv file containing three columns: station_ID, x, y\n",
    "output_locations: None # If set to None, will default to the wflow outlets\n",
    "# Path to the file with observed discharge timeseries per station \n",
    "observations_timeseries: None\n",
    "    \n",
    "###########################################################################################\n",
    "################################## Climate projections ####################################\n",
    "# climate models and scenarios\n",
    "clim_project: cmip5\n",
    "models: ['MIROC5']\n",
    "scenarios: [rcp45, rcp85]\n",
    "members: [r1i1p1]\n",
    "\n",
    "variables: [precip, temp, temp_min, temp_max]\n",
    "\n",
    "# time horizons of the climate projections\n",
    "start_month_hyd_year: Jan\n",
    "historical: 1960, 2000\n",
    "future_horizons: \n",
    "  near: 2020, 2060\n",
    "#  far: 2060, 2100"
   ]
  },
  {
   "cell_type": "markdown",
   "id": "a16b0694",
   "metadata": {},
   "source": [
    "## Running the model building workflow"
   ]
  },
  {
   "cell_type": "markdown",
   "id": "7ce52e95",
   "metadata": {},
   "source": [
    "The first line is to create an image of our workflow with snakemake to verify that all our settings are well taken into account."
   ]
  },
  {
   "cell_type": "code",
   "execution_count": 7,
   "id": "1c064489",
   "metadata": {},
   "outputs": [
    {
     "name": "stderr",
     "output_type": "stream",
     "text": [
      "Building DAG of jobs...\n"
     ]
    }
   ],
   "source": [
    "! snakemake -s Snakefile_climate_projections --configfile config/my-project-settings.yml  --dag | dot -Tpng > dag_projections.png"
   ]
  },
  {
   "cell_type": "code",
   "execution_count": 8,
   "id": "8c757eb0",
   "metadata": {},
   "outputs": [
    {
     "data": {
      "image/png": "[encoded data removed]",
      "text/plain": [
       "<IPython.core.display.Image object>"
      ]
     },
     "execution_count": 8,
     "metadata": {},
     "output_type": "execute_result"
    }
   ],
   "source": [
    "display.Image(\"./dag_projections.png\")"
   ]
  },
  {
   "cell_type": "markdown",
   "id": "608768f2",
   "metadata": {},
   "source": [
    "Now we will unlock your directory in order to save the future results of the workflow. This step is most of the time not necessary."
   ]
  },
  {
   "cell_type": "code",
   "execution_count": 9,
   "id": "d7cd5896",
   "metadata": {},
   "outputs": [
    {
     "name": "stderr",
     "output_type": "stream",
     "text": [
      "Unlocking working directory.\n"
     ]
    }
   ],
   "source": [
    "! snakemake --unlock -s Snakefile_climate_projections --configfile config/my-project-settings.yml"
   ]
  },
  {
   "cell_type": "markdown",
   "id": "f9324e09",
   "metadata": {},
   "source": [
    "And finally let's run our worflow:"
   ]
  },
  {
   "cell_type": "code",
   "execution_count": 10,
   "id": "15cbafcf",
   "metadata": {},
   "outputs": [
    {
     "name": "stderr",
     "output_type": "stream",
     "text": [
      "C:\\Users\\boisgont\\Miniconda3\\envs\\blueearth-cst\\lib\\subprocess.py:956: RuntimeWarning: line buffering (buffering=1) isn't supported in binary mode, the default buffer size will be used\n",
      "  self.stdout = io.open(c2pread, 'rb', bufsize)\n"
     ]
    },
    {
     "name": "stdout",
     "output_type": "stream",
     "text": [
      "Building DAG of jobs...\n",
      "Provided cores: 1 (use --cores to define parallelism)\n",
      "Rules claiming more threads will be scaled down.\n",
      "Job stats:\n",
      "job                            count    min threads    max threads\n",
      "---------------------------  -------  -------------  -------------\n",
      "all                                1              1              1\n",
      "monthly_change                     2              1              1\n",
      "monthly_change_scalar_merge        1              1              1\n",
      "monthly_stats_fut                  2              1              1\n",
      "monthly_stats_hist                 1              1              1\n",
      "total                              7              1              1\n",
      "\n",
      "Select jobs to execute...\n",
      "\n",
      "[Wed Apr 13 09:35:25 2022]\n",
      "rule monthly_stats_hist:\n",
      "    input: examples/myModel/hydrology_model/staticgeoms/region.geojson\n",
      "    output: examples/myModel/climate_projections/cmip5/historical_stats_time_MIROC5.nc\n",
      "    jobid: 3\n",
      "    wildcards: model=MIROC5\n",
      "    resources: tmpdir=C:\\Users\\boisgont\\AppData\\Local\\Temp\n",
      "\n",
      "r1i1p1\n",
      "writing stats over time to nc\n",
      "[########################################] | 100% Completed | 26.9s\n",
      "[Wed Apr 13 09:36:06 2022]\n",
      "Finished job 3.\n",
      "1 of 7 steps (14%) done\n",
      "Select jobs to execute...\n",
      "\n",
      "[Wed Apr 13 09:36:06 2022]\n",
      "rule monthly_stats_fut:\n",
      "    input: examples/myModel/hydrology_model/staticgeoms/region.geojson, examples/myModel/climate_projections/cmip5/historical_stats_time_MIROC5.nc\n",
      "    output: examples/myModel/climate_projections/cmip5/stats_time-MIROC5_rcp45_near.nc\n",
      "    jobid: 4\n",
      "    wildcards: model=MIROC5, scenario=rcp45, horizon=near\n",
      "    resources: tmpdir=C:\\Users\\boisgont\\AppData\\Local\\Temp\n",
      "\n",
      "r1i1p1\n",
      "writing stats over time to nc\n",
      "[########################################] | 100% Completed | 16.7s\n",
      "[Wed Apr 13 09:36:36 2022]\n",
      "Finished job 4.\n",
      "2 of 7 steps (29%) done\n",
      "Select jobs to execute...\n",
      "\n",
      "[Wed Apr 13 09:36:36 2022]\n",
      "rule monthly_change:\n",
      "    input: examples/myModel/climate_projections/cmip5/historical_stats_time_MIROC5.nc, examples/myModel/climate_projections/cmip5/stats_time-MIROC5_rcp45_near.nc\n",
      "    output: examples/myModel/climate_projections/cmip5/annual_change_scalar_stats-MIROC5_rcp45_near.nc\n",
      "    jobid: 2\n",
      "    wildcards: model=MIROC5, scenario=rcp45, horizon=near\n",
      "    resources: tmpdir=C:\\Users\\boisgont\\AppData\\Local\\Temp\n",
      "\n",
      "[Wed Apr 13 09:36:44 2022]\n",
      "Finished job 2.\n",
      "3 of 7 steps (43%) done\n",
      "Select jobs to execute...\n",
      "\n",
      "[Wed Apr 13 09:36:44 2022]\n",
      "rule monthly_stats_fut:\n",
      "    input: examples/myModel/hydrology_model/staticgeoms/region.geojson, examples/myModel/climate_projections/cmip5/historical_stats_time_MIROC5.nc\n",
      "    output: examples/myModel/climate_projections/cmip5/stats_time-MIROC5_rcp85_near.nc\n",
      "    jobid: 6\n",
      "    wildcards: model=MIROC5, scenario=rcp85, horizon=near\n",
      "    resources: tmpdir=C:\\Users\\boisgont\\AppData\\Local\\Temp\n",
      "\n",
      "r1i1p1\n",
      "writing stats over time to nc\n",
      "[########################################] | 100% Completed | 21.0s\n",
      "[Wed Apr 13 09:37:19 2022]\n",
      "Finished job 6.\n",
      "4 of 7 steps (57%) done\n",
      "Select jobs to execute...\n",
      "\n",
      "[Wed Apr 13 09:37:19 2022]\n",
      "rule monthly_change:\n",
      "    input: examples/myModel/climate_projections/cmip5/historical_stats_time_MIROC5.nc, examples/myModel/climate_projections/cmip5/stats_time-MIROC5_rcp85_near.nc\n",
      "    output: examples/myModel/climate_projections/cmip5/annual_change_scalar_stats-MIROC5_rcp85_near.nc\n",
      "    jobid: 5\n",
      "    wildcards: model=MIROC5, scenario=rcp85, horizon=near\n",
      "    resources: tmpdir=C:\\Users\\boisgont\\AppData\\Local\\Temp\n",
      "\n",
      "[Wed Apr 13 09:37:28 2022]\n",
      "Finished job 5.\n",
      "5 of 7 steps (71%) done\n",
      "Select jobs to execute...\n",
      "\n",
      "[Wed Apr 13 09:37:28 2022]\n",
      "rule monthly_change_scalar_merge:\n",
      "    input: examples/myModel/climate_projections/cmip5/annual_change_scalar_stats-MIROC5_rcp45_near.nc, examples/myModel/climate_projections/cmip5/annual_change_scalar_stats-MIROC5_rcp85_near.nc\n",
      "    output: examples/myModel/climate_projections/cmip5/annual_change_scalar_stats_summary.nc, examples/myModel/climate_projections/cmip5/annual_change_scalar_stats_summary.csv, examples/myModel/climate_projections/cmip5/annual_change_scalar_stats_summary_mean.csv\n",
      "    jobid: 1\n",
      "    resources: tmpdir=C:\\Users\\boisgont\\AppData\\Local\\Temp\n",
      "\n",
      "merging netcdf files annual_change_scalar_stats\n",
      "[Wed Apr 13 09:37:36 2022]\n",
      "Finished job 1.\n",
      "6 of 7 steps (86%) done\n",
      "Select jobs to execute...\n",
      "\n",
      "[Wed Apr 13 09:37:36 2022]\n",
      "localrule all:\n",
      "    input: examples/myModel/climate_projections/cmip5/annual_change_scalar_stats_summary.nc, examples/myModel/climate_projections/cmip5/annual_change_scalar_stats_summary.csv, examples/myModel/climate_projections/cmip5/annual_change_scalar_stats_summary_mean.csv\n",
      "    jobid: 0\n",
      "    resources: tmpdir=C:\\Users\\boisgont\\AppData\\Local\\Temp\n",
      "\n",
      "[Wed Apr 13 09:37:36 2022]\n",
      "Finished job 0.\n",
      "7 of 7 steps (100%) done\n",
      "Complete log: C:\\Users\\boisgont\\D\\Repos\\CST\\blueearth_cst\\.snakemake\\log\\2022-04-13T093524.959445.snakemake.log\n"
     ]
    }
   ],
   "source": [
    "%runrealcmd snakemake all -c 1 -s Snakefile_climate_projections --configfile config/my-project-settings.yml"
   ]
  },
  {
   "cell_type": "markdown",
   "id": "3ef0c8e1",
   "metadata": {},
   "source": [
    "## Results"
   ]
  },
  {
   "cell_type": "markdown",
   "id": "6d8926f2",
   "metadata": {},
   "source": [
    "First check that snake did run everything."
   ]
  },
  {
   "cell_type": "code",
   "execution_count": 11,
   "id": "b9deda71",
   "metadata": {},
   "outputs": [
    {
     "name": "stderr",
     "output_type": "stream",
     "text": [
      "Building DAG of jobs...\n"
     ]
    }
   ],
   "source": [
    "! snakemake -s Snakefile_climate_projections --configfile config/my-project-settings.yml  --dag | dot -Tpng > dag_projections.png"
   ]
  },
  {
   "cell_type": "code",
   "execution_count": 12,
   "id": "492642df",
   "metadata": {},
   "outputs": [
    {
     "data": {
      "image/png": "[encoded data removed]",
      "text/plain": [
       "<IPython.core.display.Image object>"
      ]
     },
     "execution_count": 12,
     "metadata": {},
     "output_type": "execute_result"
    }
   ],
   "source": [
    "display.Image(\"./dag_projections.png\")"
   ]
  },
  {
   "cell_type": "markdown",
   "id": "a37015f7",
   "metadata": {},
   "source": [
    "Let's see which files where created in our output folder."
   ]
  },
  {
   "cell_type": "code",
   "execution_count": 13,
   "id": "b88459bd",
   "metadata": {},
   "outputs": [
    {
     "name": "stdout",
     "output_type": "stream",
     "text": [
      "examples/myModel\n",
      "examples/myModel\\climate_experiment_01\n",
      "examples/myModel\\climate_experiment_01\\stress_test\n",
      " - cst_1.csv\n",
      " - cst_2.csv\n",
      " - cst_3.csv\n",
      " - cst_4.csv\n",
      " - cst_5.csv\n",
      " - cst_6.csv\n",
      "examples/myModel\\climate_historical\n",
      "examples/myModel\\climate_historical\\raw_data\n",
      " - extract_era5.nc\n",
      "examples/myModel\\climate_historical\\wflow_data\n",
      " - inmaps_era5.nc\n",
      "examples/myModel\\climate_projections\n",
      "examples/myModel\\climate_projections\\cmip5\n",
      " - annual_change_scalar_stats-MIROC5_rcp45_near.nc\n",
      " - annual_change_scalar_stats-MIROC5_rcp85_near.nc\n",
      " - annual_change_scalar_stats_summary.csv\n",
      " - annual_change_scalar_stats_summary.nc\n",
      " - annual_change_scalar_stats_summary_mean.csv\n",
      " - historical_stats_time_MIROC5.nc\n",
      " - stats_time-MIROC5_rcp45_near.nc\n",
      " - stats_time-MIROC5_rcp85_near.nc\n",
      "examples/myModel\\config\n",
      " - wflow_build_forcing_historical.ini\n",
      "examples/myModel\\hydrology_model\n",
      " - hydromt.log\n",
      " - hydromt_data.yml\n",
      " - log.txt\n",
      " - staticmaps.nc\n",
      " - wflow_sbm.toml\n",
      "examples/myModel\\hydrology_model\\instate\n",
      "examples/myModel\\hydrology_model\\run_default\n",
      " - output.csv\n",
      "examples/myModel\\hydrology_model\\run_default\\outstate\n",
      " - outstates.nc\n",
      "examples/myModel\\hydrology_model\\staticgeoms\n",
      " - basins.geojson\n",
      " - gauges.geojson\n",
      " - region.geojson\n",
      " - rivers.geojson\n",
      "examples/myModel\\plots\n",
      "examples/myModel\\plots\\wflow_model_performance\n",
      " - basin_area.png\n",
      " - clim_wflow_1.png\n",
      " - hydro_wflow_1.png\n",
      " - pet.png\n",
      " - precip.png\n",
      " - temp.png\n"
     ]
    }
   ],
   "source": [
    "root = \"examples/myModel\"\n",
    "for path, _, files in os.walk(root):\n",
    "    print(path)\n",
    "    for name in files:\n",
    "        if name.endswith(\".xml\"):\n",
    "            continue\n",
    "        print(f\" - {name}\")"
   ]
  },
  {
   "cell_type": "code",
   "execution_count": 14,
   "id": "aef149b2",
   "metadata": {},
   "outputs": [
    {
     "data": {
      "text/html": [
       "<div>\n",
       "<style scoped>\n",
       "    .dataframe tbody tr th:only-of-type {\n",
       "        vertical-align: middle;\n",
       "    }\n",
       "\n",
       "    .dataframe tbody tr th {\n",
       "        vertical-align: top;\n",
       "    }\n",
       "\n",
       "    .dataframe thead th {\n",
       "        text-align: right;\n",
       "    }\n",
       "</style>\n",
       "<table border=\"1\" class=\"dataframe\">\n",
       "  <thead>\n",
       "    <tr style=\"text-align: right;\">\n",
       "      <th></th>\n",
       "      <th>clim_project</th>\n",
       "      <th>model</th>\n",
       "      <th>scenario</th>\n",
       "      <th>horizon</th>\n",
       "      <th>member</th>\n",
       "      <th>stats</th>\n",
       "      <th>spatial_ref</th>\n",
       "      <th>temp_min</th>\n",
       "      <th>precip</th>\n",
       "      <th>temp</th>\n",
       "    </tr>\n",
       "  </thead>\n",
       "  <tbody>\n",
       "    <tr>\n",
       "      <th>0</th>\n",
       "      <td>cmip5</td>\n",
       "      <td>MIROC5</td>\n",
       "      <td>rcp45</td>\n",
       "      <td>near</td>\n",
       "      <td>r1i1p1</td>\n",
       "      <td>mean</td>\n",
       "      <td>1</td>\n",
       "      <td>1.404322</td>\n",
       "      <td>2.127340</td>\n",
       "      <td>1.425903</td>\n",
       "    </tr>\n",
       "    <tr>\n",
       "      <th>1</th>\n",
       "      <td>cmip5</td>\n",
       "      <td>MIROC5</td>\n",
       "      <td>rcp85</td>\n",
       "      <td>near</td>\n",
       "      <td>r1i1p1</td>\n",
       "      <td>mean</td>\n",
       "      <td>1</td>\n",
       "      <td>1.458261</td>\n",
       "      <td>1.400764</td>\n",
       "      <td>1.415136</td>\n",
       "    </tr>\n",
       "  </tbody>\n",
       "</table>\n",
       "</div>"
      ],
      "text/plain": [
       "  clim_project   model scenario horizon  member stats  spatial_ref  temp_min  \\\n",
       "0        cmip5  MIROC5    rcp45    near  r1i1p1  mean            1  1.404322   \n",
       "1        cmip5  MIROC5    rcp85    near  r1i1p1  mean            1  1.458261   \n",
       "\n",
       "     precip      temp  \n",
       "0  2.127340  1.425903  \n",
       "1  1.400764  1.415136  "
      ]
     },
     "execution_count": 14,
     "metadata": {},
     "output_type": "execute_result"
    }
   ],
   "source": [
    "import pandas as pd\n",
    "df = pd.read_csv('examples/myModel/climate_projections/cmip5/annual_change_scalar_stats_summary_mean.csv')\n",
    "df"
   ]
  }
 ],
 "metadata": {
  "kernelspec": {
   "display_name": "Python 3 (ipykernel)",
   "language": "python",
   "name": "python3"
  },
  "language_info": {
   "codemirror_mode": {
    "name": "ipython",
    "version": 3
   },
   "file_extension": ".py",
   "mimetype": "text/x-python",
   "name": "python",
   "nbconvert_exporter": "python",
   "pygments_lexer": "ipython3",
   "version": "3.10.2"
  }
 },
 "nbformat": 4,
 "nbformat_minor": 5
}
